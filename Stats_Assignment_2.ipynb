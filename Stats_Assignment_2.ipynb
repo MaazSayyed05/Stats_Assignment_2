{
 "cells": [
  {
   "cell_type": "code",
   "execution_count": 1,
   "id": "fff3d291-a025-4eb0-923e-d2f12beed28b",
   "metadata": {},
   "outputs": [],
   "source": [
    "# Q1\n",
    "# --> Mean, Median and Mode."
   ]
  },
  {
   "cell_type": "code",
   "execution_count": 19,
   "id": "82def09d-a636-40ee-9f1a-3848f98b1d66",
   "metadata": {},
   "outputs": [],
   "source": [
    "# Q2\n",
    "# 1. Mean--> It is sum of data points divided by the size of data. It is used in dataset if it contains misssing values (NaN).\n",
    "# 2. Median--> It is middle element of data if size is odd and mean of two data points if size is even. It is used in dataset to fill missing values but it is especially used if dataset contain Outliers.\n",
    "# 3. Mode--> It is that data point which occurs maximum number of times in dataset. It is used if dataset has missing values and it is used  for categorical data. "
   ]
  },
  {
   "cell_type": "code",
   "execution_count": 5,
   "id": "8f4b3aab-2099-4a10-a08a-38ea83199947",
   "metadata": {},
   "outputs": [
    {
     "name": "stdout",
     "output_type": "stream",
     "text": [
      "Mean:  177.01875\n",
      "Median:  177.0\n",
      "Mode:  ModeResult(mode=array([177.]), count=array([3]))\n"
     ]
    },
    {
     "name": "stderr",
     "output_type": "stream",
     "text": [
      "/tmp/ipykernel_109/483353725.py:7: FutureWarning: Unlike other reduction functions (e.g. `skew`, `kurtosis`), the default behavior of `mode` typically preserves the axis it acts along. In SciPy 1.11.0, this behavior will change: the default value of `keepdims` will become False, the `axis` over which the statistic is taken will be eliminated, and the value None will no longer be accepted. Set `keepdims` to True or False to avoid this warning.\n",
      "  print(\"Mode: \", stats.mode(df))\n"
     ]
    }
   ],
   "source": [
    "# Q3\n",
    "import numpy as np\n",
    "from scipy import stats\n",
    "df = [178,177,176,177,178.2,178,175,179,180,175,178.9,176.2,177,172.5,178,176.5]\n",
    "print(\"Mean: \",np.mean(df))\n",
    "print(\"Median: \",np.median(df))\n",
    "print(\"Mode: \", stats.mode(df))"
   ]
  },
  {
   "cell_type": "code",
   "execution_count": 7,
   "id": "fd5014c9-5d68-44e7-a32e-fe436014d5af",
   "metadata": {},
   "outputs": [
    {
     "name": "stdout",
     "output_type": "stream",
     "text": [
      "Standard Deviation:  1.7885814036548633\n"
     ]
    }
   ],
   "source": [
    "# Q4\n",
    "df = [178,177,176,177,178.2,178,175,179,180,175,178.9,176.2,177,172.5,178,176.5]\n",
    "print(\"Standard Deviation: \",np.std(df))"
   ]
  },
  {
   "cell_type": "code",
   "execution_count": 20,
   "id": "09acc2aa-16b2-4ee3-a56c-2c50ce369b13",
   "metadata": {},
   "outputs": [],
   "source": [
    "# Q5\n",
    "# 1. Variance--> It is used to determine the spreadness of data.\n",
    "# 2. standard Deviation--> It is used to determine the position of data point."
   ]
  },
  {
   "cell_type": "code",
   "execution_count": 3,
   "id": "a9a23f4d-e848-4478-803b-fcab09b14651",
   "metadata": {},
   "outputs": [],
   "source": [
    "# Q6\n",
    "# --> A Venn Diagram is method of representing a set using squares and circles."
   ]
  },
  {
   "cell_type": "code",
   "execution_count": 11,
   "id": "34a1761b-4f72-4716-a60c-e1e0caf864fa",
   "metadata": {},
   "outputs": [
    {
     "name": "stdout",
     "output_type": "stream",
     "text": [
      "A ^ B =  {2, 6}\n",
      "A U B =  {0, 2, 3, 4, 5, 6, 7, 8, 10}\n"
     ]
    }
   ],
   "source": [
    "# Q7\n",
    "A = {2,3,4,5,6,7}\n",
    "B = {0,2,6,8,10}\n",
    "print(\"A ^ B = \",A.intersection(B))\n",
    "print(\"A U B = \",A.union(B))"
   ]
  },
  {
   "cell_type": "code",
   "execution_count": 12,
   "id": "e5b9a8b7-fada-4c1d-8ac7-ccdb622dd7d2",
   "metadata": {},
   "outputs": [],
   "source": [
    "# Q8\n",
    "# --> In probability theory and statistics, skewness is a measure of the asymmetry of the probability distribution of a real-valued random variable about its mean. The skewness value can be positive, zero, negative, or undefined."
   ]
  },
  {
   "cell_type": "code",
   "execution_count": 11,
   "id": "227be4bc-1ec2-4328-9ba9-049d6c3a8fdb",
   "metadata": {},
   "outputs": [],
   "source": [
    "# Q9\n",
    "# --> Median <= Mean \n",
    "\n",
    "# --> In Right Skewed(positive skewed)\n",
    "# --> Mode <= Median <= Mean\n",
    "\n",
    "# In left skewed (negative skewed)\n",
    "# --> Mode >= Median >= Mean "
   ]
  },
  {
   "cell_type": "code",
   "execution_count": 17,
   "id": "7ae4557e-e9d8-43f9-88d1-d5a494e1ca92",
   "metadata": {},
   "outputs": [
    {
     "name": "stderr",
     "output_type": "stream",
     "text": [
      "/tmp/ipykernel_109/2100997513.py:7: FutureWarning: The default value of numeric_only in DataFrame.cov is deprecated. In a future version, it will default to False. Select only valid columns or specify the value of numeric_only to silence this warning.\n",
      "  df.cov()\n"
     ]
    },
    {
     "data": {
      "text/html": [
       "<div>\n",
       "<style scoped>\n",
       "    .dataframe tbody tr th:only-of-type {\n",
       "        vertical-align: middle;\n",
       "    }\n",
       "\n",
       "    .dataframe tbody tr th {\n",
       "        vertical-align: top;\n",
       "    }\n",
       "\n",
       "    .dataframe thead th {\n",
       "        text-align: right;\n",
       "    }\n",
       "</style>\n",
       "<table border=\"1\" class=\"dataframe\">\n",
       "  <thead>\n",
       "    <tr style=\"text-align: right;\">\n",
       "      <th></th>\n",
       "      <th>total_bill</th>\n",
       "      <th>tip</th>\n",
       "      <th>size</th>\n",
       "    </tr>\n",
       "  </thead>\n",
       "  <tbody>\n",
       "    <tr>\n",
       "      <th>total_bill</th>\n",
       "      <td>79.252939</td>\n",
       "      <td>8.323502</td>\n",
       "      <td>5.065983</td>\n",
       "    </tr>\n",
       "    <tr>\n",
       "      <th>tip</th>\n",
       "      <td>8.323502</td>\n",
       "      <td>1.914455</td>\n",
       "      <td>0.643906</td>\n",
       "    </tr>\n",
       "    <tr>\n",
       "      <th>size</th>\n",
       "      <td>5.065983</td>\n",
       "      <td>0.643906</td>\n",
       "      <td>0.904591</td>\n",
       "    </tr>\n",
       "  </tbody>\n",
       "</table>\n",
       "</div>"
      ],
      "text/plain": [
       "            total_bill       tip      size\n",
       "total_bill   79.252939  8.323502  5.065983\n",
       "tip           8.323502  1.914455  0.643906\n",
       "size          5.065983  0.643906  0.904591"
      ]
     },
     "execution_count": 17,
     "metadata": {},
     "output_type": "execute_result"
    }
   ],
   "source": [
    "# Q10\n",
    "# Correlation--> It describes the relationship between two random variables.\n",
    "# Covariance--> In probability theory and statistics, covariance is a measure of the joint variability of two random variables.\n",
    "# --> Covariance shows you how the two variables differ, whereas correlation shows you how the two variables are related.\n",
    "import seaborn as sns\n",
    "df = sns.load_dataset('tips')\n",
    "df.cov()"
   ]
  },
  {
   "cell_type": "code",
   "execution_count": 19,
   "id": "28f546aa-448e-4ec4-b1e3-6eac2889309c",
   "metadata": {},
   "outputs": [
    {
     "name": "stderr",
     "output_type": "stream",
     "text": [
      "/tmp/ipykernel_109/1144273541.py:2: FutureWarning: The default value of numeric_only in DataFrame.corr is deprecated. In a future version, it will default to False. Select only valid columns or specify the value of numeric_only to silence this warning.\n",
      "  df.corr(method = 'spearman')\n"
     ]
    },
    {
     "data": {
      "text/html": [
       "<div>\n",
       "<style scoped>\n",
       "    .dataframe tbody tr th:only-of-type {\n",
       "        vertical-align: middle;\n",
       "    }\n",
       "\n",
       "    .dataframe tbody tr th {\n",
       "        vertical-align: top;\n",
       "    }\n",
       "\n",
       "    .dataframe thead th {\n",
       "        text-align: right;\n",
       "    }\n",
       "</style>\n",
       "<table border=\"1\" class=\"dataframe\">\n",
       "  <thead>\n",
       "    <tr style=\"text-align: right;\">\n",
       "      <th></th>\n",
       "      <th>total_bill</th>\n",
       "      <th>tip</th>\n",
       "      <th>size</th>\n",
       "    </tr>\n",
       "  </thead>\n",
       "  <tbody>\n",
       "    <tr>\n",
       "      <th>total_bill</th>\n",
       "      <td>1.000000</td>\n",
       "      <td>0.678968</td>\n",
       "      <td>0.604791</td>\n",
       "    </tr>\n",
       "    <tr>\n",
       "      <th>tip</th>\n",
       "      <td>0.678968</td>\n",
       "      <td>1.000000</td>\n",
       "      <td>0.468268</td>\n",
       "    </tr>\n",
       "    <tr>\n",
       "      <th>size</th>\n",
       "      <td>0.604791</td>\n",
       "      <td>0.468268</td>\n",
       "      <td>1.000000</td>\n",
       "    </tr>\n",
       "  </tbody>\n",
       "</table>\n",
       "</div>"
      ],
      "text/plain": [
       "            total_bill       tip      size\n",
       "total_bill    1.000000  0.678968  0.604791\n",
       "tip           0.678968  1.000000  0.468268\n",
       "size          0.604791  0.468268  1.000000"
      ]
     },
     "execution_count": 19,
     "metadata": {},
     "output_type": "execute_result"
    }
   ],
   "source": [
    "# Q10\n",
    "df.corr(method = 'spearman')"
   ]
  },
  {
   "cell_type": "code",
   "execution_count": 24,
   "id": "697000d0-426f-4948-a1d0-6d89f4b49589",
   "metadata": {},
   "outputs": [
    {
     "data": {
      "text/plain": [
       "passengers    132.55\n",
       "dtype: float64"
      ]
     },
     "execution_count": 24,
     "metadata": {},
     "output_type": "execute_result"
    }
   ],
   "source": [
    "# Q11\n",
    "import seaborn as sns\n",
    "df = sns.load_dataset('flights')\n",
    "df1 = df[['passengers']][0:20]\n",
    "df1.mean()"
   ]
  },
  {
   "cell_type": "code",
   "execution_count": 14,
   "id": "c545e0b8-a1d7-4232-82b0-650d147c6714",
   "metadata": {},
   "outputs": [],
   "source": [
    "# Q12\n",
    "# --> In normal distribution\n",
    "# --> Mean = Median = Mode"
   ]
  },
  {
   "cell_type": "code",
   "execution_count": 25,
   "id": "f392ac3b-79b2-4ecc-9750-5cd06e90f0c0",
   "metadata": {},
   "outputs": [],
   "source": [
    "# Q13\n",
    "# --> Covariance shows you how the two variables differ, whereas correlation shows you how the two variables are related."
   ]
  },
  {
   "cell_type": "code",
   "execution_count": 44,
   "id": "fbfa4ec2-2882-422a-b0a1-8f0077ef5af5",
   "metadata": {},
   "outputs": [
    {
     "data": {
      "text/plain": [
       "9.814954576223638"
      ]
     },
     "execution_count": 44,
     "metadata": {},
     "output_type": "execute_result"
    }
   ],
   "source": [
    "# Q14\n",
    "import numpy as np\n",
    "l1 = [10,24,30,12,3,5]\n",
    "np.mean(l1)\n",
    "np.median(l1)\n",
    "np.var(l1)\n",
    "np.std(l1)"
   ]
  },
  {
   "cell_type": "code",
   "execution_count": 46,
   "id": "4cf9bd16-c3b6-4a46-a1a8-298e9ef95804",
   "metadata": {},
   "outputs": [
    {
     "data": {
      "text/plain": [
       "29.06553896895008"
      ]
     },
     "execution_count": 46,
     "metadata": {},
     "output_type": "execute_result"
    }
   ],
   "source": [
    "l2 = [10,24,30,12,3,90]\n",
    "np.mean(l2)\n",
    "np.median(l2)\n",
    "np.var(l2)\n",
    "np.std(l2)"
   ]
  },
  {
   "cell_type": "code",
   "execution_count": 47,
   "id": "1b421a66-5840-409f-be58-d52f4401e242",
   "metadata": {},
   "outputs": [],
   "source": [
    "# In Central Tendency it affects the value of mean whereas medain is not that much affected by an outlier"
   ]
  },
  {
   "cell_type": "code",
   "execution_count": null,
   "id": "524d03df-d959-429d-961d-78ba4221a295",
   "metadata": {},
   "outputs": [],
   "source": []
  }
 ],
 "metadata": {
  "kernelspec": {
   "display_name": "Python 3 (ipykernel)",
   "language": "python",
   "name": "python3"
  },
  "language_info": {
   "codemirror_mode": {
    "name": "ipython",
    "version": 3
   },
   "file_extension": ".py",
   "mimetype": "text/x-python",
   "name": "python",
   "nbconvert_exporter": "python",
   "pygments_lexer": "ipython3",
   "version": "3.10.8"
  }
 },
 "nbformat": 4,
 "nbformat_minor": 5
}
